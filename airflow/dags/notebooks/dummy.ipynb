{
 "cells": [
  {
   "cell_type": "code",
   "execution_count": 3,
   "id": "099fe499-5310-4ed8-ae31-f70c9c9cbfd6",
   "metadata": {},
   "outputs": [
    {
     "data": {
      "text/plain": [
       "[1, 7, 3, 52]"
      ]
     },
     "execution_count": 3,
     "metadata": {},
     "output_type": "execute_result"
    }
   ],
   "source": [
    "my_list = [1, 7, 3, 52]\n",
    "my_list"
   ]
  },
  {
   "cell_type": "code",
   "execution_count": 4,
   "id": "1ff842a0-4664-4be8-9a74-b2e90be482a1",
   "metadata": {},
   "outputs": [],
   "source": [
    "\n",
    "tr_list = map(lambda x: x*2, my_list)"
   ]
  },
  {
   "cell_type": "code",
   "execution_count": 5,
   "id": "88662b26-788a-4c03-94cc-b0e2259d8894",
   "metadata": {},
   "outputs": [
    {
     "name": "stdout",
     "output_type": "stream",
     "text": [
      "[2, 14, 6, 104]\n"
     ]
    }
   ],
   "source": [
    "print(list(tr_list))"
   ]
  },
  {
   "cell_type": "code",
   "execution_count": null,
   "id": "ad806f95-a4aa-465f-b51c-1f98d0a246d0",
   "metadata": {},
   "outputs": [],
   "source": []
  }
 ],
 "metadata": {
  "kernelspec": {
   "display_name": "Python 3.9.7 ('note-flow-SNpsr0OA-py3.9')",
   "language": "python",
   "name": "python3"
  },
  "language_info": {
   "codemirror_mode": {
    "name": "ipython",
    "version": 3
   },
   "file_extension": ".py",
   "mimetype": "text/x-python",
   "name": "python",
   "nbconvert_exporter": "python",
   "pygments_lexer": "ipython3",
   "version": "3.9.7"
  },
  "vscode": {
   "interpreter": {
    "hash": "bd2993dec279e2b9a9dfca7a37adc46e3cf056bb433307f8c03e191b05744f7a"
   }
  }
 },
 "nbformat": 4,
 "nbformat_minor": 5
}
