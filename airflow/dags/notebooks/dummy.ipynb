{
 "cells": [
  {
   "cell_type": "code",
   "execution_count": null,
   "id": "099fe499-5310-4ed8-ae31-f70c9c9cbfd6",
   "metadata": {},
   "outputs": [],
   "source": [
    "my_list = [1, 3, 5]\n",
    "my_list"
   ]
  },
  {
   "cell_type": "code",
   "execution_count": null,
   "id": "1ff842a0-4664-4be8-9a74-b2e90be482a1",
   "metadata": {},
   "outputs": [],
   "source": [
    "\n",
    "tr_list = map(lambda x: x*2, my_list)"
   ]
  },
  {
   "cell_type": "code",
   "execution_count": null,
   "id": "88662b26-788a-4c03-94cc-b0e2259d8894",
   "metadata": {},
   "outputs": [],
   "source": [
    "print(list(tr_list))"
   ]
  },
  {
   "cell_type": "code",
   "execution_count": null,
   "id": "ad806f95-a4aa-465f-b51c-1f98d0a246d0",
   "metadata": {},
   "outputs": [],
   "source": []
  }
 ],
 "metadata": {
  "kernelspec": {
   "display_name": "Python 3 (ipykernel)",
   "language": "python",
   "name": "python3"
  },
  "language_info": {
   "codemirror_mode": {
    "name": "ipython",
    "version": 3
   },
   "file_extension": ".py",
   "mimetype": "text/x-python",
   "name": "python",
   "nbconvert_exporter": "python",
   "pygments_lexer": "ipython3",
   "version": "3.9.7"
  }
 },
 "nbformat": 4,
 "nbformat_minor": 5
}
